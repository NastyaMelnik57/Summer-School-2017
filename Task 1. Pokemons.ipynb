{
 "cells": [
  {
   "cell_type": "markdown",
   "metadata": {},
   "source": [
    "У меня в детстве были сотки с покемонами! ^^"
   ]
  },
  {
   "cell_type": "code",
   "execution_count": 59,
   "metadata": {
    "collapsed": true
   },
   "outputs": [],
   "source": [
    "import pandas as pd\n",
    "import numpy as np"
   ]
  },
  {
   "cell_type": "code",
   "execution_count": 220,
   "metadata": {
    "collapsed": false
   },
   "outputs": [],
   "source": [
    "pokemon = pd.read_csv('pokemon.csv')\n",
    "abilities = pd.read_csv('abilities.csv')\n",
    "egg_group = pd.read_csv('egg_groups.csv')"
   ]
  },
  {
   "cell_type": "markdown",
   "metadata": {},
   "source": [
    "## Данные"
   ]
  },
  {
   "cell_type": "code",
   "execution_count": 135,
   "metadata": {
    "collapsed": false
   },
   "outputs": [
    {
     "data": {
      "text/html": [
       "<div>\n",
       "<table border=\"1\" class=\"dataframe\">\n",
       "  <thead>\n",
       "    <tr style=\"text-align: right;\">\n",
       "      <th></th>\n",
       "      <th>id</th>\n",
       "      <th>identifier</th>\n",
       "      <th>name</th>\n",
       "      <th>name_phonetic</th>\n",
       "      <th>species</th>\n",
       "      <th>name_jp</th>\n",
       "      <th>name_jp_romaji</th>\n",
       "      <th>species_jp</th>\n",
       "      <th>generation_id</th>\n",
       "      <th>ndex</th>\n",
       "      <th>...</th>\n",
       "      <th>exp_yield</th>\n",
       "      <th>base_happiness</th>\n",
       "      <th>egg_group1_id</th>\n",
       "      <th>egg_group2_id</th>\n",
       "      <th>is_baby</th>\n",
       "      <th>baby_breed_item_id</th>\n",
       "      <th>hatch_counter</th>\n",
       "      <th>lvl_100_exp</th>\n",
       "      <th>pokemon_order</th>\n",
       "      <th>legacy_id</th>\n",
       "    </tr>\n",
       "  </thead>\n",
       "  <tbody>\n",
       "    <tr>\n",
       "      <th>0</th>\n",
       "      <td>1</td>\n",
       "      <td>bulbasaur</td>\n",
       "      <td>Bulbasaur</td>\n",
       "      <td>Bulbasaur</td>\n",
       "      <td>Seed</td>\n",
       "      <td>フシギダネ</td>\n",
       "      <td>Fushigidane</td>\n",
       "      <td>たね</td>\n",
       "      <td>1</td>\n",
       "      <td>1</td>\n",
       "      <td>...</td>\n",
       "      <td>64</td>\n",
       "      <td>70</td>\n",
       "      <td>1</td>\n",
       "      <td>7.0</td>\n",
       "      <td>0</td>\n",
       "      <td>NaN</td>\n",
       "      <td>20</td>\n",
       "      <td>1059860</td>\n",
       "      <td>1</td>\n",
       "      <td>1.0</td>\n",
       "    </tr>\n",
       "    <tr>\n",
       "      <th>1</th>\n",
       "      <td>2</td>\n",
       "      <td>ivysaur</td>\n",
       "      <td>Ivysaur</td>\n",
       "      <td>Ivysaur</td>\n",
       "      <td>Seed</td>\n",
       "      <td>フシギソウ</td>\n",
       "      <td>Fushigisou</td>\n",
       "      <td>たね</td>\n",
       "      <td>1</td>\n",
       "      <td>2</td>\n",
       "      <td>...</td>\n",
       "      <td>141</td>\n",
       "      <td>70</td>\n",
       "      <td>1</td>\n",
       "      <td>7.0</td>\n",
       "      <td>0</td>\n",
       "      <td>NaN</td>\n",
       "      <td>20</td>\n",
       "      <td>1059860</td>\n",
       "      <td>2</td>\n",
       "      <td>2.0</td>\n",
       "    </tr>\n",
       "    <tr>\n",
       "      <th>2</th>\n",
       "      <td>3</td>\n",
       "      <td>venusaur</td>\n",
       "      <td>Venusaur</td>\n",
       "      <td>Veenasore</td>\n",
       "      <td>Seed</td>\n",
       "      <td>フシギバナ</td>\n",
       "      <td>Fushigibana</td>\n",
       "      <td>たね</td>\n",
       "      <td>1</td>\n",
       "      <td>3</td>\n",
       "      <td>...</td>\n",
       "      <td>208</td>\n",
       "      <td>70</td>\n",
       "      <td>1</td>\n",
       "      <td>7.0</td>\n",
       "      <td>0</td>\n",
       "      <td>NaN</td>\n",
       "      <td>20</td>\n",
       "      <td>1059860</td>\n",
       "      <td>3</td>\n",
       "      <td>3.0</td>\n",
       "    </tr>\n",
       "    <tr>\n",
       "      <th>3</th>\n",
       "      <td>4</td>\n",
       "      <td>charmander</td>\n",
       "      <td>Charmander</td>\n",
       "      <td>Char-mander</td>\n",
       "      <td>Lizard</td>\n",
       "      <td>ヒトカゲ</td>\n",
       "      <td>Hitokage</td>\n",
       "      <td>とかげ</td>\n",
       "      <td>1</td>\n",
       "      <td>4</td>\n",
       "      <td>...</td>\n",
       "      <td>65</td>\n",
       "      <td>70</td>\n",
       "      <td>1</td>\n",
       "      <td>14.0</td>\n",
       "      <td>0</td>\n",
       "      <td>NaN</td>\n",
       "      <td>20</td>\n",
       "      <td>1059860</td>\n",
       "      <td>4</td>\n",
       "      <td>4.0</td>\n",
       "    </tr>\n",
       "    <tr>\n",
       "      <th>4</th>\n",
       "      <td>5</td>\n",
       "      <td>charmeleon</td>\n",
       "      <td>Charmeleon</td>\n",
       "      <td>Char-meeleon</td>\n",
       "      <td>Flame</td>\n",
       "      <td>リザード</td>\n",
       "      <td>Lizardo</td>\n",
       "      <td>かえん</td>\n",
       "      <td>1</td>\n",
       "      <td>5</td>\n",
       "      <td>...</td>\n",
       "      <td>142</td>\n",
       "      <td>70</td>\n",
       "      <td>1</td>\n",
       "      <td>14.0</td>\n",
       "      <td>0</td>\n",
       "      <td>NaN</td>\n",
       "      <td>20</td>\n",
       "      <td>1059860</td>\n",
       "      <td>5</td>\n",
       "      <td>5.0</td>\n",
       "    </tr>\n",
       "  </tbody>\n",
       "</table>\n",
       "<p>5 rows × 38 columns</p>\n",
       "</div>"
      ],
      "text/plain": [
       "   id  identifier        name name_phonetic species name_jp name_jp_romaji  \\\n",
       "0   1   bulbasaur   Bulbasaur     Bulbasaur    Seed   フシギダネ    Fushigidane   \n",
       "1   2     ivysaur     Ivysaur       Ivysaur    Seed   フシギソウ     Fushigisou   \n",
       "2   3    venusaur    Venusaur     Veenasore    Seed   フシギバナ    Fushigibana   \n",
       "3   4  charmander  Charmander   Char-mander  Lizard    ヒトカゲ       Hitokage   \n",
       "4   5  charmeleon  Charmeleon  Char-meeleon   Flame    リザード        Lizardo   \n",
       "\n",
       "  species_jp  generation_id  ndex    ...      exp_yield  base_happiness  \\\n",
       "0         たね              1     1    ...             64              70   \n",
       "1         たね              1     2    ...            141              70   \n",
       "2         たね              1     3    ...            208              70   \n",
       "3        とかげ              1     4    ...             65              70   \n",
       "4        かえん              1     5    ...            142              70   \n",
       "\n",
       "   egg_group1_id  egg_group2_id  is_baby  baby_breed_item_id  hatch_counter  \\\n",
       "0              1            7.0        0                 NaN             20   \n",
       "1              1            7.0        0                 NaN             20   \n",
       "2              1            7.0        0                 NaN             20   \n",
       "3              1           14.0        0                 NaN             20   \n",
       "4              1           14.0        0                 NaN             20   \n",
       "\n",
       "   lvl_100_exp  pokemon_order  legacy_id  \n",
       "0      1059860              1        1.0  \n",
       "1      1059860              2        2.0  \n",
       "2      1059860              3        3.0  \n",
       "3      1059860              4        4.0  \n",
       "4      1059860              5        5.0  \n",
       "\n",
       "[5 rows x 38 columns]"
      ]
     },
     "execution_count": 135,
     "metadata": {},
     "output_type": "execute_result"
    }
   ],
   "source": [
    "pokemon.head()"
   ]
  },
  {
   "cell_type": "markdown",
   "metadata": {},
   "source": [
    "Данны содержат категориальные (вид), бинарные (бэби/не бэби), порядковые (уровень счастья) признаки."
   ]
  },
  {
   "cell_type": "code",
   "execution_count": 62,
   "metadata": {
    "collapsed": false
   },
   "outputs": [
    {
     "data": {
      "text/plain": [
       "Index(['id', 'identifier', 'name', 'name_phonetic', 'species', 'name_jp',\n",
       "       'name_jp_romaji', 'species_jp', 'generation_id', 'ndex', 'kdex', 'jdex',\n",
       "       'jdex_old', 'hdex', 'sdex', 'udex', 'type1_id', 'type2_id',\n",
       "       'ability1_id', 'ability2_id', 'abilitydream_id',\n",
       "       'evolution_parent_pokemon_id', 'evolution_method_id',\n",
       "       'evolution_parameter', 'height', 'weight', 'gender_rate', 'catch_rate',\n",
       "       'exp_yield', 'base_happiness', 'egg_group1_id', 'egg_group2_id',\n",
       "       'is_baby', 'baby_breed_item_id', 'hatch_counter', 'lvl_100_exp',\n",
       "       'pokemon_order', 'legacy_id'],\n",
       "      dtype='object')"
      ]
     },
     "execution_count": 62,
     "metadata": {},
     "output_type": "execute_result"
    }
   ],
   "source": [
    "pokemon.columns"
   ]
  },
  {
   "cell_type": "markdown",
   "metadata": {},
   "source": [
    "#### Попробуем понять, что значат эти характеристики:"
   ]
  },
  {
   "cell_type": "markdown",
   "metadata": {},
   "source": [
    "id - номер\n",
    "\n",
    "identifier, name, name_phonetic, name_jp, name_jp_romaji - это все имя\n",
    "\n",
    "species, species_jp - вид покемона\n",
    "\n",
    "generation_id - поколение покемона\n",
    "\n",
    "evolution_parent_pokemon_id, evolution_method_id, evolution_parameter - родитель, тип эволюции и какие-то параметры\n",
    "\n",
    "height, weight - рост, вес\n",
    "\n",
    "is_baby - 0/1 беби или нет\n",
    "\n",
    "base_happiness - уровень счастья\n",
    "\n",
    "ability1_id, ability2_id, abilitydream_id - типы суперспособностей\n",
    "\n",
    "gender_rate - это, видимо, соотношение мальчиков/девочек этой особи (0 - только мальчики, 8 - только девочки, -1 - бесполые)\n",
    "\n",
    "catch_rate - насколько покемона легко поймать (чем выше цифра, тем легче)\n",
    "\n",
    "exp_yield - опыт, который получаешь, если убил покемона\n",
    "\n",
    "lvl_100_exp - опыт, который нужен, чтобы достичь 100 уровня\n",
    "\n",
    "hatch_counter - время вылупления яйца\n",
    "\n",
    "egg_group1_id, egg_group2_id - есть две категории яиц, указано, к каким относится покемон и к какому подтипу этих категорий\n",
    "\n",
    "type1_id, type2_id - есть 18 типов, поделенных на две группы, покемонов может иметь 1 тип из первой и 1 из второй\n",
    "\n",
    "ndex, kdex, jdex, jdex_old, hdex, sdex, udex, pokemon_order, legacy_id - какие-то номера покемонов в разных системах"
   ]
  },
  {
   "cell_type": "markdown",
   "metadata": {},
   "source": [
    "#### Посмотрим на основную статистику"
   ]
  },
  {
   "cell_type": "code",
   "execution_count": 66,
   "metadata": {
    "collapsed": false
   },
   "outputs": [
    {
     "data": {
      "text/plain": [
       "(663, 38)"
      ]
     },
     "execution_count": 66,
     "metadata": {},
     "output_type": "execute_result"
    }
   ],
   "source": [
    "pokemon.shape"
   ]
  },
  {
   "cell_type": "code",
   "execution_count": 67,
   "metadata": {
    "collapsed": false
   },
   "outputs": [
    {
     "name": "stderr",
     "output_type": "stream",
     "text": [
      "//anaconda/lib/python3.5/site-packages/numpy/lib/function_base.py:3834: RuntimeWarning: Invalid value encountered in percentile\n",
      "  RuntimeWarning)\n"
     ]
    },
    {
     "data": {
      "text/html": [
       "<div>\n",
       "<table border=\"1\" class=\"dataframe\">\n",
       "  <thead>\n",
       "    <tr style=\"text-align: right;\">\n",
       "      <th></th>\n",
       "      <th>height</th>\n",
       "      <th>weight</th>\n",
       "      <th>gender_rate</th>\n",
       "      <th>catch_rate</th>\n",
       "      <th>exp_yield</th>\n",
       "      <th>base_happiness</th>\n",
       "      <th>egg_group1_id</th>\n",
       "      <th>egg_group2_id</th>\n",
       "      <th>is_baby</th>\n",
       "      <th>baby_breed_item_id</th>\n",
       "      <th>hatch_counter</th>\n",
       "    </tr>\n",
       "  </thead>\n",
       "  <tbody>\n",
       "    <tr>\n",
       "      <th>count</th>\n",
       "      <td>663.000000</td>\n",
       "      <td>663.000000</td>\n",
       "      <td>663.000000</td>\n",
       "      <td>663.000000</td>\n",
       "      <td>663.000000</td>\n",
       "      <td>663.000000</td>\n",
       "      <td>663.000000</td>\n",
       "      <td>175.000000</td>\n",
       "      <td>663.000000</td>\n",
       "      <td>9.000000</td>\n",
       "      <td>663.000000</td>\n",
       "    </tr>\n",
       "    <tr>\n",
       "      <th>mean</th>\n",
       "      <td>11.490196</td>\n",
       "      <td>577.039216</td>\n",
       "      <td>3.022624</td>\n",
       "      <td>98.920060</td>\n",
       "      <td>141.375566</td>\n",
       "      <td>66.033183</td>\n",
       "      <td>6.452489</td>\n",
       "      <td>7.908571</td>\n",
       "      <td>0.027149</td>\n",
       "      <td>280.111111</td>\n",
       "      <td>27.669683</td>\n",
       "    </tr>\n",
       "    <tr>\n",
       "      <th>std</th>\n",
       "      <td>10.543944</td>\n",
       "      <td>927.302988</td>\n",
       "      <td>2.126889</td>\n",
       "      <td>76.800668</td>\n",
       "      <td>59.858184</td>\n",
       "      <td>19.112375</td>\n",
       "      <td>4.329735</td>\n",
       "      <td>3.586803</td>\n",
       "      <td>0.162641</td>\n",
       "      <td>27.624466</td>\n",
       "      <td>24.401434</td>\n",
       "    </tr>\n",
       "    <tr>\n",
       "      <th>min</th>\n",
       "      <td>1.000000</td>\n",
       "      <td>1.000000</td>\n",
       "      <td>-1.000000</td>\n",
       "      <td>3.000000</td>\n",
       "      <td>20.000000</td>\n",
       "      <td>0.000000</td>\n",
       "      <td>1.000000</td>\n",
       "      <td>2.000000</td>\n",
       "      <td>0.000000</td>\n",
       "      <td>231.000000</td>\n",
       "      <td>5.000000</td>\n",
       "    </tr>\n",
       "    <tr>\n",
       "      <th>25%</th>\n",
       "      <td>6.000000</td>\n",
       "      <td>99.000000</td>\n",
       "      <td>1.000000</td>\n",
       "      <td>45.000000</td>\n",
       "      <td>83.000000</td>\n",
       "      <td>70.000000</td>\n",
       "      <td>3.000000</td>\n",
       "      <td>NaN</td>\n",
       "      <td>0.000000</td>\n",
       "      <td>NaN</td>\n",
       "      <td>20.000000</td>\n",
       "    </tr>\n",
       "    <tr>\n",
       "      <th>50%</th>\n",
       "      <td>10.000000</td>\n",
       "      <td>288.000000</td>\n",
       "      <td>4.000000</td>\n",
       "      <td>60.000000</td>\n",
       "      <td>145.000000</td>\n",
       "      <td>70.000000</td>\n",
       "      <td>5.000000</td>\n",
       "      <td>NaN</td>\n",
       "      <td>0.000000</td>\n",
       "      <td>NaN</td>\n",
       "      <td>20.000000</td>\n",
       "    </tr>\n",
       "    <tr>\n",
       "      <th>75%</th>\n",
       "      <td>14.000000</td>\n",
       "      <td>609.000000</td>\n",
       "      <td>4.000000</td>\n",
       "      <td>175.000000</td>\n",
       "      <td>187.500000</td>\n",
       "      <td>70.000000</td>\n",
       "      <td>10.000000</td>\n",
       "      <td>NaN</td>\n",
       "      <td>0.000000</td>\n",
       "      <td>NaN</td>\n",
       "      <td>25.000000</td>\n",
       "    </tr>\n",
       "    <tr>\n",
       "      <th>max</th>\n",
       "      <td>145.000000</td>\n",
       "      <td>9500.000000</td>\n",
       "      <td>8.000000</td>\n",
       "      <td>255.000000</td>\n",
       "      <td>390.000000</td>\n",
       "      <td>140.000000</td>\n",
       "      <td>15.000000</td>\n",
       "      <td>14.000000</td>\n",
       "      <td>1.000000</td>\n",
       "      <td>297.000000</td>\n",
       "      <td>120.000000</td>\n",
       "    </tr>\n",
       "  </tbody>\n",
       "</table>\n",
       "</div>"
      ],
      "text/plain": [
       "           height       weight  gender_rate  catch_rate   exp_yield  \\\n",
       "count  663.000000   663.000000   663.000000  663.000000  663.000000   \n",
       "mean    11.490196   577.039216     3.022624   98.920060  141.375566   \n",
       "std     10.543944   927.302988     2.126889   76.800668   59.858184   \n",
       "min      1.000000     1.000000    -1.000000    3.000000   20.000000   \n",
       "25%      6.000000    99.000000     1.000000   45.000000   83.000000   \n",
       "50%     10.000000   288.000000     4.000000   60.000000  145.000000   \n",
       "75%     14.000000   609.000000     4.000000  175.000000  187.500000   \n",
       "max    145.000000  9500.000000     8.000000  255.000000  390.000000   \n",
       "\n",
       "       base_happiness  egg_group1_id  egg_group2_id     is_baby  \\\n",
       "count      663.000000     663.000000     175.000000  663.000000   \n",
       "mean        66.033183       6.452489       7.908571    0.027149   \n",
       "std         19.112375       4.329735       3.586803    0.162641   \n",
       "min          0.000000       1.000000       2.000000    0.000000   \n",
       "25%         70.000000       3.000000            NaN    0.000000   \n",
       "50%         70.000000       5.000000            NaN    0.000000   \n",
       "75%         70.000000      10.000000            NaN    0.000000   \n",
       "max        140.000000      15.000000      14.000000    1.000000   \n",
       "\n",
       "       baby_breed_item_id  hatch_counter  \n",
       "count            9.000000     663.000000  \n",
       "mean           280.111111      27.669683  \n",
       "std             27.624466      24.401434  \n",
       "min            231.000000       5.000000  \n",
       "25%                   NaN      20.000000  \n",
       "50%                   NaN      20.000000  \n",
       "75%                   NaN      25.000000  \n",
       "max            297.000000     120.000000  "
      ]
     },
     "execution_count": 67,
     "metadata": {},
     "output_type": "execute_result"
    }
   ],
   "source": [
    "pokemon[pokemon.columns[24:35]].describe() #смотреть на статистику первых колонок не имеет смысла"
   ]
  },
  {
   "cell_type": "markdown",
   "metadata": {},
   "source": [
    "## Preprocessing"
   ]
  },
  {
   "cell_type": "markdown",
   "metadata": {},
   "source": [
    "Избавимся от NaN и преобразуем признаки со строчками в признаки с цифрами (последнее не пригодилось, но пусть будет)."
   ]
  },
  {
   "cell_type": "code",
   "execution_count": 106,
   "metadata": {
    "collapsed": false
   },
   "outputs": [],
   "source": [
    "import sklearn\n",
    "from sklearn import preprocessing"
   ]
  },
  {
   "cell_type": "code",
   "execution_count": 221,
   "metadata": {
    "collapsed": false
   },
   "outputs": [
    {
     "data": {
      "text/html": [
       "<div>\n",
       "<table border=\"1\" class=\"dataframe\">\n",
       "  <thead>\n",
       "    <tr style=\"text-align: right;\">\n",
       "      <th></th>\n",
       "      <th>id</th>\n",
       "      <th>identifier</th>\n",
       "      <th>name</th>\n",
       "      <th>name_phonetic</th>\n",
       "      <th>species</th>\n",
       "      <th>name_jp</th>\n",
       "      <th>name_jp_romaji</th>\n",
       "      <th>species_jp</th>\n",
       "      <th>generation_id</th>\n",
       "      <th>ndex</th>\n",
       "      <th>...</th>\n",
       "      <th>exp_yield</th>\n",
       "      <th>base_happiness</th>\n",
       "      <th>egg_group1_id</th>\n",
       "      <th>egg_group2_id</th>\n",
       "      <th>is_baby</th>\n",
       "      <th>baby_breed_item_id</th>\n",
       "      <th>hatch_counter</th>\n",
       "      <th>lvl_100_exp</th>\n",
       "      <th>pokemon_order</th>\n",
       "      <th>legacy_id</th>\n",
       "    </tr>\n",
       "  </thead>\n",
       "  <tbody>\n",
       "    <tr>\n",
       "      <th>658</th>\n",
       "      <td>10010</td>\n",
       "      <td>rotom</td>\n",
       "      <td>Rotom</td>\n",
       "      <td>Rotom</td>\n",
       "      <td>Plasma</td>\n",
       "      <td>ロトム</td>\n",
       "      <td>Rotom</td>\n",
       "      <td>プラズマ</td>\n",
       "      <td>4</td>\n",
       "      <td>479</td>\n",
       "      <td>...</td>\n",
       "      <td>132</td>\n",
       "      <td>70</td>\n",
       "      <td>11</td>\n",
       "      <td>0.0</td>\n",
       "      <td>0</td>\n",
       "      <td>0.0</td>\n",
       "      <td>20</td>\n",
       "      <td>1000000</td>\n",
       "      <td>489</td>\n",
       "      <td>487.0</td>\n",
       "    </tr>\n",
       "    <tr>\n",
       "      <th>659</th>\n",
       "      <td>10011</td>\n",
       "      <td>rotom</td>\n",
       "      <td>Rotom</td>\n",
       "      <td>Rotom</td>\n",
       "      <td>Plasma</td>\n",
       "      <td>ロトム</td>\n",
       "      <td>Rotom</td>\n",
       "      <td>プラズマ</td>\n",
       "      <td>4</td>\n",
       "      <td>479</td>\n",
       "      <td>...</td>\n",
       "      <td>132</td>\n",
       "      <td>70</td>\n",
       "      <td>11</td>\n",
       "      <td>0.0</td>\n",
       "      <td>0</td>\n",
       "      <td>0.0</td>\n",
       "      <td>20</td>\n",
       "      <td>1000000</td>\n",
       "      <td>488</td>\n",
       "      <td>488.0</td>\n",
       "    </tr>\n",
       "    <tr>\n",
       "      <th>660</th>\n",
       "      <td>10012</td>\n",
       "      <td>rotom</td>\n",
       "      <td>Rotom</td>\n",
       "      <td>Rotom</td>\n",
       "      <td>Plasma</td>\n",
       "      <td>ロトム</td>\n",
       "      <td>Rotom</td>\n",
       "      <td>プラズマ</td>\n",
       "      <td>4</td>\n",
       "      <td>479</td>\n",
       "      <td>...</td>\n",
       "      <td>132</td>\n",
       "      <td>70</td>\n",
       "      <td>11</td>\n",
       "      <td>0.0</td>\n",
       "      <td>0</td>\n",
       "      <td>0.0</td>\n",
       "      <td>20</td>\n",
       "      <td>1000000</td>\n",
       "      <td>491</td>\n",
       "      <td>499.0</td>\n",
       "    </tr>\n",
       "    <tr>\n",
       "      <th>661</th>\n",
       "      <td>10017</td>\n",
       "      <td>darmanitan</td>\n",
       "      <td>Darmanitan</td>\n",
       "      <td>Darmanitan</td>\n",
       "      <td>Blazing</td>\n",
       "      <td>ヒヒダルマ</td>\n",
       "      <td>Hihidaruma</td>\n",
       "      <td>えんじょう</td>\n",
       "      <td>5</td>\n",
       "      <td>555</td>\n",
       "      <td>...</td>\n",
       "      <td>189</td>\n",
       "      <td>70</td>\n",
       "      <td>5</td>\n",
       "      <td>0.0</td>\n",
       "      <td>0</td>\n",
       "      <td>0.0</td>\n",
       "      <td>20</td>\n",
       "      <td>1059860</td>\n",
       "      <td>572</td>\n",
       "      <td>0.0</td>\n",
       "    </tr>\n",
       "    <tr>\n",
       "      <th>662</th>\n",
       "      <td>10018</td>\n",
       "      <td>meloetta</td>\n",
       "      <td>Meloetta</td>\n",
       "      <td>Meloetta</td>\n",
       "      <td>Melody</td>\n",
       "      <td>メロエッタ</td>\n",
       "      <td>Meloetta</td>\n",
       "      <td>せんりつ</td>\n",
       "      <td>5</td>\n",
       "      <td>648</td>\n",
       "      <td>...</td>\n",
       "      <td>270</td>\n",
       "      <td>100</td>\n",
       "      <td>15</td>\n",
       "      <td>0.0</td>\n",
       "      <td>0</td>\n",
       "      <td>0.0</td>\n",
       "      <td>120</td>\n",
       "      <td>1250000</td>\n",
       "      <td>666</td>\n",
       "      <td>0.0</td>\n",
       "    </tr>\n",
       "  </tbody>\n",
       "</table>\n",
       "<p>5 rows × 38 columns</p>\n",
       "</div>"
      ],
      "text/plain": [
       "        id  identifier        name name_phonetic  species name_jp  \\\n",
       "658  10010       rotom       Rotom         Rotom   Plasma     ロトム   \n",
       "659  10011       rotom       Rotom         Rotom   Plasma     ロトム   \n",
       "660  10012       rotom       Rotom         Rotom   Plasma     ロトム   \n",
       "661  10017  darmanitan  Darmanitan    Darmanitan  Blazing   ヒヒダルマ   \n",
       "662  10018    meloetta    Meloetta      Meloetta   Melody   メロエッタ   \n",
       "\n",
       "    name_jp_romaji species_jp  generation_id  ndex    ...      exp_yield  \\\n",
       "658          Rotom       プラズマ              4   479    ...            132   \n",
       "659          Rotom       プラズマ              4   479    ...            132   \n",
       "660          Rotom       プラズマ              4   479    ...            132   \n",
       "661     Hihidaruma      えんじょう              5   555    ...            189   \n",
       "662       Meloetta       せんりつ              5   648    ...            270   \n",
       "\n",
       "     base_happiness  egg_group1_id  egg_group2_id  is_baby  \\\n",
       "658              70             11            0.0        0   \n",
       "659              70             11            0.0        0   \n",
       "660              70             11            0.0        0   \n",
       "661              70              5            0.0        0   \n",
       "662             100             15            0.0        0   \n",
       "\n",
       "     baby_breed_item_id  hatch_counter  lvl_100_exp  pokemon_order  legacy_id  \n",
       "658                 0.0             20      1000000            489      487.0  \n",
       "659                 0.0             20      1000000            488      488.0  \n",
       "660                 0.0             20      1000000            491      499.0  \n",
       "661                 0.0             20      1059860            572        0.0  \n",
       "662                 0.0            120      1250000            666        0.0  \n",
       "\n",
       "[5 rows x 38 columns]"
      ]
     },
     "execution_count": 221,
     "metadata": {},
     "output_type": "execute_result"
    }
   ],
   "source": [
    "pokemon = pokemon.fillna(0)\n",
    "pokemon.tail()"
   ]
  },
  {
   "cell_type": "code",
   "execution_count": 147,
   "metadata": {
    "collapsed": false
   },
   "outputs": [],
   "source": [
    "pokemon_num = pd.DataFrame()\n",
    "for column in pokemon:\n",
    "    pokemon_num[column] = pd.Categorical.from_array(pokemon[column]).codes"
   ]
  },
  {
   "cell_type": "code",
   "execution_count": 148,
   "metadata": {
    "collapsed": false
   },
   "outputs": [
    {
     "data": {
      "text/html": [
       "<div>\n",
       "<table border=\"1\" class=\"dataframe\">\n",
       "  <thead>\n",
       "    <tr style=\"text-align: right;\">\n",
       "      <th></th>\n",
       "      <th>id</th>\n",
       "      <th>identifier</th>\n",
       "      <th>name</th>\n",
       "      <th>name_phonetic</th>\n",
       "      <th>species</th>\n",
       "      <th>name_jp</th>\n",
       "      <th>name_jp_romaji</th>\n",
       "      <th>species_jp</th>\n",
       "      <th>generation_id</th>\n",
       "      <th>ndex</th>\n",
       "      <th>...</th>\n",
       "      <th>exp_yield</th>\n",
       "      <th>base_happiness</th>\n",
       "      <th>egg_group1_id</th>\n",
       "      <th>egg_group2_id</th>\n",
       "      <th>is_baby</th>\n",
       "      <th>baby_breed_item_id</th>\n",
       "      <th>hatch_counter</th>\n",
       "      <th>lvl_100_exp</th>\n",
       "      <th>pokemon_order</th>\n",
       "      <th>legacy_id</th>\n",
       "    </tr>\n",
       "  </thead>\n",
       "  <tbody>\n",
       "    <tr>\n",
       "      <th>0</th>\n",
       "      <td>0</td>\n",
       "      <td>58</td>\n",
       "      <td>58</td>\n",
       "      <td>58</td>\n",
       "      <td>365</td>\n",
       "      <td>442</td>\n",
       "      <td>158</td>\n",
       "      <td>205</td>\n",
       "      <td>0</td>\n",
       "      <td>0</td>\n",
       "      <td>...</td>\n",
       "      <td>20</td>\n",
       "      <td>2</td>\n",
       "      <td>0</td>\n",
       "      <td>5</td>\n",
       "      <td>0</td>\n",
       "      <td>-1</td>\n",
       "      <td>3</td>\n",
       "      <td>3</td>\n",
       "      <td>0</td>\n",
       "      <td>0</td>\n",
       "    </tr>\n",
       "    <tr>\n",
       "      <th>1</th>\n",
       "      <td>1</td>\n",
       "      <td>252</td>\n",
       "      <td>252</td>\n",
       "      <td>252</td>\n",
       "      <td>365</td>\n",
       "      <td>441</td>\n",
       "      <td>159</td>\n",
       "      <td>205</td>\n",
       "      <td>0</td>\n",
       "      <td>1</td>\n",
       "      <td>...</td>\n",
       "      <td>92</td>\n",
       "      <td>2</td>\n",
       "      <td>0</td>\n",
       "      <td>5</td>\n",
       "      <td>0</td>\n",
       "      <td>-1</td>\n",
       "      <td>3</td>\n",
       "      <td>3</td>\n",
       "      <td>1</td>\n",
       "      <td>1</td>\n",
       "    </tr>\n",
       "    <tr>\n",
       "      <th>2</th>\n",
       "      <td>2</td>\n",
       "      <td>602</td>\n",
       "      <td>602</td>\n",
       "      <td>599</td>\n",
       "      <td>365</td>\n",
       "      <td>443</td>\n",
       "      <td>157</td>\n",
       "      <td>205</td>\n",
       "      <td>0</td>\n",
       "      <td>2</td>\n",
       "      <td>...</td>\n",
       "      <td>157</td>\n",
       "      <td>2</td>\n",
       "      <td>0</td>\n",
       "      <td>5</td>\n",
       "      <td>0</td>\n",
       "      <td>-1</td>\n",
       "      <td>3</td>\n",
       "      <td>3</td>\n",
       "      <td>2</td>\n",
       "      <td>2</td>\n",
       "    </tr>\n",
       "    <tr>\n",
       "      <th>3</th>\n",
       "      <td>3</td>\n",
       "      <td>75</td>\n",
       "      <td>75</td>\n",
       "      <td>75</td>\n",
       "      <td>248</td>\n",
       "      <td>409</td>\n",
       "      <td>232</td>\n",
       "      <td>245</td>\n",
       "      <td>0</td>\n",
       "      <td>3</td>\n",
       "      <td>...</td>\n",
       "      <td>21</td>\n",
       "      <td>2</td>\n",
       "      <td>0</td>\n",
       "      <td>11</td>\n",
       "      <td>0</td>\n",
       "      <td>-1</td>\n",
       "      <td>3</td>\n",
       "      <td>3</td>\n",
       "      <td>3</td>\n",
       "      <td>3</td>\n",
       "    </tr>\n",
       "    <tr>\n",
       "      <th>4</th>\n",
       "      <td>4</td>\n",
       "      <td>76</td>\n",
       "      <td>76</td>\n",
       "      <td>76</td>\n",
       "      <td>158</td>\n",
       "      <td>613</td>\n",
       "      <td>331</td>\n",
       "      <td>73</td>\n",
       "      <td>0</td>\n",
       "      <td>4</td>\n",
       "      <td>...</td>\n",
       "      <td>93</td>\n",
       "      <td>2</td>\n",
       "      <td>0</td>\n",
       "      <td>11</td>\n",
       "      <td>0</td>\n",
       "      <td>-1</td>\n",
       "      <td>3</td>\n",
       "      <td>3</td>\n",
       "      <td>4</td>\n",
       "      <td>4</td>\n",
       "    </tr>\n",
       "  </tbody>\n",
       "</table>\n",
       "<p>5 rows × 38 columns</p>\n",
       "</div>"
      ],
      "text/plain": [
       "   id  identifier  name  name_phonetic  species  name_jp  name_jp_romaji  \\\n",
       "0   0          58    58             58      365      442             158   \n",
       "1   1         252   252            252      365      441             159   \n",
       "2   2         602   602            599      365      443             157   \n",
       "3   3          75    75             75      248      409             232   \n",
       "4   4          76    76             76      158      613             331   \n",
       "\n",
       "   species_jp  generation_id  ndex    ...      exp_yield  base_happiness  \\\n",
       "0         205              0     0    ...             20               2   \n",
       "1         205              0     1    ...             92               2   \n",
       "2         205              0     2    ...            157               2   \n",
       "3         245              0     3    ...             21               2   \n",
       "4          73              0     4    ...             93               2   \n",
       "\n",
       "   egg_group1_id  egg_group2_id  is_baby  baby_breed_item_id  hatch_counter  \\\n",
       "0              0              5        0                  -1              3   \n",
       "1              0              5        0                  -1              3   \n",
       "2              0              5        0                  -1              3   \n",
       "3              0             11        0                  -1              3   \n",
       "4              0             11        0                  -1              3   \n",
       "\n",
       "   lvl_100_exp  pokemon_order  legacy_id  \n",
       "0            3              0          0  \n",
       "1            3              1          1  \n",
       "2            3              2          2  \n",
       "3            3              3          3  \n",
       "4            3              4          4  \n",
       "\n",
       "[5 rows x 38 columns]"
      ]
     },
     "execution_count": 148,
     "metadata": {},
     "output_type": "execute_result"
    }
   ],
   "source": [
    "pokemon_num.head()"
   ]
  },
  {
   "cell_type": "markdown",
   "metadata": {},
   "source": [
    "## Поиск зависимостей"
   ]
  },
  {
   "cell_type": "markdown",
   "metadata": {},
   "source": [
    "### 1. Проверим гипотезу о том, что метод эволюции не влияет на то, выше среднего время вылупления из яйца или ниже"
   ]
  },
  {
   "cell_type": "markdown",
   "metadata": {},
   "source": [
    "Для этого сначала добавим столбец hatch_counter_mean со значением 1, если время больше среднего, и 0, если меньше."
   ]
  },
  {
   "cell_type": "code",
   "execution_count": 222,
   "metadata": {
    "collapsed": true
   },
   "outputs": [],
   "source": [
    "mean = np.mean(pokemon['hatch_counter'])\n",
    "pokemon['hatch_counter_mean'] = '-'"
   ]
  },
  {
   "cell_type": "code",
   "execution_count": 224,
   "metadata": {
    "collapsed": false
   },
   "outputs": [
    {
     "name": "stderr",
     "output_type": "stream",
     "text": [
      "//anaconda/lib/python3.5/site-packages/ipykernel/__main__.py:5: SettingWithCopyWarning: \n",
      "A value is trying to be set on a copy of a slice from a DataFrame\n",
      "\n",
      "See the caveats in the documentation: http://pandas.pydata.org/pandas-docs/stable/indexing.html#indexing-view-versus-copy\n",
      "//anaconda/lib/python3.5/site-packages/ipykernel/__main__.py:3: SettingWithCopyWarning: \n",
      "A value is trying to be set on a copy of a slice from a DataFrame\n",
      "\n",
      "See the caveats in the documentation: http://pandas.pydata.org/pandas-docs/stable/indexing.html#indexing-view-versus-copy\n",
      "  app.launch_new_instance()\n"
     ]
    }
   ],
   "source": [
    "for i in range(0, len(pokemon['hatch_counter'][:])):\n",
    "    if pokemon['hatch_counter'][i] > mean:\n",
    "        pokemon['hatch_counter_mean'][i] = 1\n",
    "    else:\n",
    "        pokemon['hatch_counter_mean'][i] = 0"
   ]
  },
  {
   "cell_type": "code",
   "execution_count": 410,
   "metadata": {
    "collapsed": false
   },
   "outputs": [
    {
     "data": {
      "text/plain": [
       "23"
      ]
     },
     "execution_count": 410,
     "metadata": {},
     "output_type": "execute_result"
    }
   ],
   "source": [
    "evol_values = list(pokemon['evolution_method_id'].unique())\n",
    "len(evol_values)"
   ]
  },
  {
   "cell_type": "markdown",
   "metadata": {},
   "source": [
    "Всего 23 значения метода эволюции. Т.е. 23\\*22/2 = 253 неупорядоченные пары. Т.е. 253 таблицы сопряженности. Найдем все пары."
   ]
  },
  {
   "cell_type": "code",
   "execution_count": 228,
   "metadata": {
    "collapsed": false
   },
   "outputs": [],
   "source": [
    "pairs = []\n",
    "for i in range(0, len(evol_values)):\n",
    "    for j in range(i+1, len(evol_values)):\n",
    "        pair = [evol_values[i], evol_values[j]]\n",
    "        pairs.append(pair)"
   ]
  },
  {
   "cell_type": "markdown",
   "metadata": {},
   "source": [
    "Посмотрим на примере пары методов [1.0, 20.0] и пары значений hatch_counter_mean [0, 1], как выглядит таблица сопряженности. Для этого сначала оставим только ту часть таблицы, в которой значения признака метод эволюции равно 1.0 или 20.0:"
   ]
  },
  {
   "cell_type": "code",
   "execution_count": 229,
   "metadata": {
    "collapsed": false
   },
   "outputs": [],
   "source": [
    "evol_1 = pokemon[pokemon['evolution_method_id']==1.0]\n",
    "evol_20 = pokemon[pokemon['evolution_method_id']==20.0]\n",
    "frames = [evol_1, evol_20]\n",
    "evol_1_20 = pd.concat(frames)"
   ]
  },
  {
   "cell_type": "code",
   "execution_count": 284,
   "metadata": {
    "collapsed": false
   },
   "outputs": [
    {
     "data": {
      "text/html": [
       "<div>\n",
       "<table border=\"1\" class=\"dataframe\">\n",
       "  <thead>\n",
       "    <tr style=\"text-align: right;\">\n",
       "      <th>hatch_counter_mean</th>\n",
       "      <th>0</th>\n",
       "      <th>1</th>\n",
       "    </tr>\n",
       "    <tr>\n",
       "      <th>evolution_method_id</th>\n",
       "      <th></th>\n",
       "      <th></th>\n",
       "    </tr>\n",
       "  </thead>\n",
       "  <tbody>\n",
       "    <tr>\n",
       "      <th>1.0</th>\n",
       "      <td>197</td>\n",
       "      <td>28</td>\n",
       "    </tr>\n",
       "    <tr>\n",
       "      <th>20.0</th>\n",
       "      <td>1</td>\n",
       "      <td>0</td>\n",
       "    </tr>\n",
       "  </tbody>\n",
       "</table>\n",
       "</div>"
      ],
      "text/plain": [
       "hatch_counter_mean     0   1\n",
       "evolution_method_id         \n",
       "1.0                  197  28\n",
       "20.0                   1   0"
      ]
     },
     "execution_count": 284,
     "metadata": {},
     "output_type": "execute_result"
    }
   ],
   "source": [
    "#таблица сопряженности метода и вылупления\n",
    "tab_evol_1_20_hatch = pd.crosstab(evol_1_20['evolution_method_id'], evol_1_20['hatch_counter_mean'])\n",
    "tab_evol_1_20_hatch"
   ]
  },
  {
   "cell_type": "markdown",
   "metadata": {},
   "source": [
    "Теперь создадим массив с 253-мя такими таблицами"
   ]
  },
  {
   "cell_type": "code",
   "execution_count": 293,
   "metadata": {
    "collapsed": false
   },
   "outputs": [],
   "source": [
    "tables_evol_hatch = []\n",
    "for i in pairs:\n",
    "    evol_i1 = pokemon[pokemon['evolution_method_id']==i[0]]\n",
    "    evol_i2 = pokemon[pokemon['evolution_method_id']==i[1]]\n",
    "    frames = [evol_i1, evol_i2]\n",
    "    evol_i1_i2 = pd.concat(frames)\n",
    "    tab_evol_i1_i2_hatch = pd.crosstab(evol_i1_i2['evolution_method_id'],evol_i1_i2['hatch_counter_mean'])\n",
    "    tables_evol_hatch.append(tab_evol_i1_i2_hatch)"
   ]
  },
  {
   "cell_type": "code",
   "execution_count": 294,
   "metadata": {
    "collapsed": false
   },
   "outputs": [],
   "source": [
    "for i in range(len(tables_evol_hatch)):\n",
    "    if len(tables_evol_hatch[i].columns) < 2:\n",
    "        if tables_evol_hatch[i].columns[0] == 0:\n",
    "            tables_evol_hatch[i]['1'] = [0, 0]\n",
    "        else:\n",
    "            tables_evol_hatch[i]['0'] = [0, 0]"
   ]
  },
  {
   "cell_type": "markdown",
   "metadata": {},
   "source": [
    "Применим критерий Фишера и посчитаем уровни достигаемой значимости для каждой таблицы."
   ]
  },
  {
   "cell_type": "code",
   "execution_count": 239,
   "metadata": {
    "collapsed": true
   },
   "outputs": [],
   "source": [
    "import scipy\n",
    "import scipy.stats"
   ]
  },
  {
   "cell_type": "code",
   "execution_count": 297,
   "metadata": {
    "collapsed": false
   },
   "outputs": [],
   "source": [
    "p_values_fisher = []\n",
    "for i in tables_evol_hatch:\n",
    "    p_values_fisher.append(scipy.stats.fisher_exact(i))"
   ]
  },
  {
   "cell_type": "code",
   "execution_count": 298,
   "metadata": {
    "collapsed": false
   },
   "outputs": [
    {
     "data": {
      "text/plain": [
       "3"
      ]
     },
     "execution_count": 298,
     "metadata": {},
     "output_type": "execute_result"
    }
   ],
   "source": [
    "n = 0\n",
    "for i in p_values_fisher:\n",
    "    if i[1] < 0.05:\n",
    "        n += 1\n",
    "n"
   ]
  },
  {
   "cell_type": "markdown",
   "metadata": {},
   "source": [
    "Всего 3 достигаемых уровней значимости оказались меньше, чем α=0.05 (на Фишере) - очень мало относительно 253, связи нет."
   ]
  },
  {
   "cell_type": "markdown",
   "metadata": {},
   "source": [
    "### 2. Оценим корелляцию между уровнем частья base_happiness и весом weight / ростом height."
   ]
  },
  {
   "cell_type": "code",
   "execution_count": 358,
   "metadata": {
    "collapsed": false
   },
   "outputs": [],
   "source": [
    "happy = pokemon['base_happiness']\n",
    "weight = pokemon['weight'] \n",
    "height = pokemon['height']\n",
    "exp = pokemon['exp_yield']"
   ]
  },
  {
   "cell_type": "code",
   "execution_count": 303,
   "metadata": {
    "collapsed": false
   },
   "outputs": [
    {
     "data": {
      "text/plain": [
       "(-0.40240708427839028, 3.3695346671122963e-27)"
      ]
     },
     "execution_count": 303,
     "metadata": {},
     "output_type": "execute_result"
    }
   ],
   "source": [
    "pearson_happy_weight = scipy.stats.pearsonr(happy, weight)\n",
    "pearson_happy_weight #коэффициент корелляции и двухвостый p_value"
   ]
  },
  {
   "cell_type": "code",
   "execution_count": 304,
   "metadata": {
    "collapsed": false
   },
   "outputs": [
    {
     "data": {
      "text/plain": [
       "SpearmanrResult(correlation=-0.25742561808383801, pvalue=1.7009707917528601e-11)"
      ]
     },
     "execution_count": 304,
     "metadata": {},
     "output_type": "execute_result"
    }
   ],
   "source": [
    "spearmanr_happy_weight = scipy.stats.spearmanr(happy, b=weight, axis=0)\n",
    "spearmanr_happy_weight #коэффициент корелляции и двусторонний p_value"
   ]
  },
  {
   "cell_type": "markdown",
   "metadata": {},
   "source": [
    "Коэффициент Спирмена принимает значения от -1 до 1. Чем сильнее связь между признаками, тем больше коэффициент по модулю.\n",
    "Если коэффициент равен +1, то между признаками есть прямая линейная связь, а если коэффициент равен -1, то между признаками есть обратная линейная связь.\n",
    "Если признаки несвязаны, то k=0.\n",
    "Коэффициент показывает слабую зависимость (>-0.3 и <0) => скорее всего между признаками практически нет линейной связи.\n",
    "p_value << 0.05 подвеждают значимость этих выводов.\n",
    "\n",
    "К сожалению, в жизни корелляция есть и еще какая :("
   ]
  },
  {
   "cell_type": "code",
   "execution_count": 308,
   "metadata": {
    "collapsed": false
   },
   "outputs": [
    {
     "data": {
      "text/plain": [
       "SpearmanrResult(correlation=-0.24803030680999608, pvalue=9.4256656666406455e-11)"
      ]
     },
     "execution_count": 308,
     "metadata": {},
     "output_type": "execute_result"
    }
   ],
   "source": [
    "spearmanr_happy_height = scipy.stats.spearmanr(happy, b=height, axis=0)\n",
    "spearmanr_happy_height #коэффициент корелляции и двусторонний p_value"
   ]
  },
  {
   "cell_type": "markdown",
   "metadata": {},
   "source": [
    "то же самое"
   ]
  },
  {
   "cell_type": "markdown",
   "metadata": {},
   "source": [
    "!зато есть корелляция между ростом и опытом, который дают, за то, что победил покемона! Спирман > 0.7 и p_value подтвреждает зависимость."
   ]
  },
  {
   "cell_type": "code",
   "execution_count": 366,
   "metadata": {
    "collapsed": false
   },
   "outputs": [
    {
     "data": {
      "text/plain": [
       "SpearmanrResult(correlation=0.74117444506997587, pvalue=1.6537058463344625e-116)"
      ]
     },
     "execution_count": 366,
     "metadata": {},
     "output_type": "execute_result"
    }
   ],
   "source": [
    "spearmanr_exp_height = scipy.stats.spearmanr(exp, b=height, axis=0)\n",
    "spearmanr_exp_height #коэффициент корелляции и двусторонний p_value"
   ]
  },
  {
   "cell_type": "markdown",
   "metadata": {},
   "source": [
    "есть еще логичная обратная зависимость между catch_rate и опытом, который дают за победу в драке (обратная, потому что catch_rate тем выше, чем проще поймать, а чем проще, тем меньше очков дают)"
   ]
  },
  {
   "cell_type": "code",
   "execution_count": 367,
   "metadata": {
    "collapsed": false
   },
   "outputs": [
    {
     "data": {
      "text/plain": [
       "SpearmanrResult(correlation=-0.68967606486075206, pvalue=9.6894628132208616e-95)"
      ]
     },
     "execution_count": 367,
     "metadata": {},
     "output_type": "execute_result"
    }
   ],
   "source": [
    "spearmanr_exp1_height = scipy.stats.spearmanr(exp, b=pokemon['catch_rate'], axis=0)\n",
    "spearmanr_exp1_height #коэффициент корелляции и двусторонний p_value"
   ]
  },
  {
   "cell_type": "markdown",
   "metadata": {},
   "source": [
    "### 3. Оценим корелляцию между поколением generation_id и гендерным распределением gender_rate,"
   ]
  },
  {
   "cell_type": "markdown",
   "metadata": {},
   "source": [
    "Обе переменные категориальные, будем считать коэффицент корреляции Крамера."
   ]
  },
  {
   "cell_type": "code",
   "execution_count": 462,
   "metadata": {
    "collapsed": false
   },
   "outputs": [],
   "source": [
    "gender = pokemon['gender_rate']\n",
    "gener = pokemon['generation_id']"
   ]
  },
  {
   "cell_type": "markdown",
   "metadata": {},
   "source": [
    "Чтобы посчитать коэффициент Крамера, построим сопряженную таблицу для generation_id и gender_rate."
   ]
  },
  {
   "cell_type": "code",
   "execution_count": 463,
   "metadata": {
    "collapsed": false
   },
   "outputs": [
    {
     "data": {
      "text/html": [
       "<div>\n",
       "<table border=\"1\" class=\"dataframe\">\n",
       "  <thead>\n",
       "    <tr style=\"text-align: right;\">\n",
       "      <th>gender_rate</th>\n",
       "      <th>-1</th>\n",
       "      <th>0</th>\n",
       "      <th>1</th>\n",
       "      <th>2</th>\n",
       "      <th>4</th>\n",
       "      <th>6</th>\n",
       "      <th>8</th>\n",
       "    </tr>\n",
       "    <tr>\n",
       "      <th>generation_id</th>\n",
       "      <th></th>\n",
       "      <th></th>\n",
       "      <th></th>\n",
       "      <th></th>\n",
       "      <th></th>\n",
       "      <th></th>\n",
       "      <th></th>\n",
       "    </tr>\n",
       "  </thead>\n",
       "  <tbody>\n",
       "    <tr>\n",
       "      <th>1</th>\n",
       "      <td>13</td>\n",
       "      <td>6</td>\n",
       "      <td>19</td>\n",
       "      <td>10</td>\n",
       "      <td>91</td>\n",
       "      <td>6</td>\n",
       "      <td>6</td>\n",
       "    </tr>\n",
       "    <tr>\n",
       "      <th>2</th>\n",
       "      <td>8</td>\n",
       "      <td>2</td>\n",
       "      <td>13</td>\n",
       "      <td>2</td>\n",
       "      <td>67</td>\n",
       "      <td>5</td>\n",
       "      <td>3</td>\n",
       "    </tr>\n",
       "    <tr>\n",
       "      <th>3</th>\n",
       "      <td>19</td>\n",
       "      <td>2</td>\n",
       "      <td>14</td>\n",
       "      <td>2</td>\n",
       "      <td>95</td>\n",
       "      <td>4</td>\n",
       "      <td>2</td>\n",
       "    </tr>\n",
       "    <tr>\n",
       "      <th>4</th>\n",
       "      <td>24</td>\n",
       "      <td>2</td>\n",
       "      <td>20</td>\n",
       "      <td>2</td>\n",
       "      <td>59</td>\n",
       "      <td>2</td>\n",
       "      <td>7</td>\n",
       "    </tr>\n",
       "    <tr>\n",
       "      <th>5</th>\n",
       "      <td>17</td>\n",
       "      <td>7</td>\n",
       "      <td>21</td>\n",
       "      <td>3</td>\n",
       "      <td>101</td>\n",
       "      <td>5</td>\n",
       "      <td>4</td>\n",
       "    </tr>\n",
       "  </tbody>\n",
       "</table>\n",
       "</div>"
      ],
      "text/plain": [
       "gender_rate    -1   0   1   2    4   6   8\n",
       "generation_id                             \n",
       "1              13   6  19  10   91   6   6\n",
       "2               8   2  13   2   67   5   3\n",
       "3              19   2  14   2   95   4   2\n",
       "4              24   2  20   2   59   2   7\n",
       "5              17   7  21   3  101   5   4"
      ]
     },
     "execution_count": 463,
     "metadata": {},
     "output_type": "execute_result"
    }
   ],
   "source": [
    "table_gender_gener = pd.crosstab(gener, gender)\n",
    "table_gender_gener"
   ]
  },
  {
   "cell_type": "code",
   "execution_count": 464,
   "metadata": {
    "collapsed": true
   },
   "outputs": [],
   "source": [
    "def cramers_stat_new(confusion_matrix): #источник примерно http://stackoverflow.com/questions/20892799/using-pandas-calculate-cram%C3%A9rs-coefficient-matrix\n",
    "    chi2 = scipy.stats.chi2_contingency(confusion_matrix)[0]\n",
    "    n = confusion_matrix.sum().sum()\n",
    "    return np.sqrt(chi2 / (n*(min(confusion_matrix.shape)-1)))"
   ]
  },
  {
   "cell_type": "code",
   "execution_count": 465,
   "metadata": {
    "collapsed": false
   },
   "outputs": [
    {
     "data": {
      "text/plain": [
       "0.11785311264618413"
      ]
     },
     "execution_count": 465,
     "metadata": {},
     "output_type": "execute_result"
    }
   ],
   "source": [
    "cramer_gender_gener = cramers_stat_new(table_gender_gener)\n",
    "cramer_gender_gener"
   ]
  },
  {
   "cell_type": "markdown",
   "metadata": {},
   "source": [
    "Коэффициент V Крамера — мера силы взаимосвязи между двумя категориальными переменными. Принимает значения от нуля до единицы. \n",
    "Судя по коэффициенту 0.1 связи нет."
   ]
  },
  {
   "cell_type": "markdown",
   "metadata": {},
   "source": [
    "Здесь уже таблица не 2*2, будет использовать критерий хи-квадрат для проверки гипотезы об отсутствии связи между признаками.\n",
    "\n",
    "гипотеза H0 - связи между признаками нет\n",
    "гипотеза H1 - связь между признаками есть"
   ]
  },
  {
   "cell_type": "code",
   "execution_count": 466,
   "metadata": {
    "collapsed": false
   },
   "outputs": [
    {
     "data": {
      "text/plain": [
       "(36.834572537365325,\n",
       " 0.04545099637480244,\n",
       " 24,\n",
       " array([[ 18.448,   4.327,  19.814,   4.327,  94.062,   5.011,   5.011],\n",
       "        [ 12.217,   2.866,  13.122,   2.866,  62.293,   3.318,   3.318],\n",
       "        [ 16.86 ,   3.955,  18.109,   3.955,  85.964,   4.579,   4.579],\n",
       "        [ 14.172,   3.324,  15.222,   3.324,  72.259,   3.849,   3.849],\n",
       "        [ 19.303,   4.528,  20.733,   4.528,  98.422,   5.243,   5.243]]))"
      ]
     },
     "execution_count": 466,
     "metadata": {},
     "output_type": "execute_result"
    }
   ],
   "source": [
    "scipy.stats.chi2_contingency(table_gender_gener)"
   ]
  },
  {
   "cell_type": "markdown",
   "metadata": {},
   "source": [
    "p_value получился < 0.05, связи действительно нет"
   ]
  },
  {
   "cell_type": "markdown",
   "metadata": {},
   "source": [
    "## Предсказание"
   ]
  },
  {
   "cell_type": "markdown",
   "metadata": {},
   "source": [
    "Посмотрим, можно ли хорошо предсказать уровень счастья покемона по его физическим характеристикам и тому, насколько его легко поймать: \n",
    "    \n",
    "    height, weight, ability1_id, ability2_id, abilitydream_id, catch_rate"
   ]
  },
  {
   "cell_type": "code",
   "execution_count": 498,
   "metadata": {
    "collapsed": false
   },
   "outputs": [],
   "source": [
    "cols = ['height', 'weight', 'ability1_id', 'ability2_id', 'abilitydream_id', 'catch_rate']\n",
    "X = pokemon[cols]"
   ]
  },
  {
   "cell_type": "code",
   "execution_count": 499,
   "metadata": {
    "collapsed": false
   },
   "outputs": [
    {
     "data": {
      "text/html": [
       "<div>\n",
       "<table border=\"1\" class=\"dataframe\">\n",
       "  <thead>\n",
       "    <tr style=\"text-align: right;\">\n",
       "      <th></th>\n",
       "      <th>height</th>\n",
       "      <th>weight</th>\n",
       "      <th>ability1_id</th>\n",
       "      <th>ability2_id</th>\n",
       "      <th>abilitydream_id</th>\n",
       "      <th>catch_rate</th>\n",
       "    </tr>\n",
       "  </thead>\n",
       "  <tbody>\n",
       "    <tr>\n",
       "      <th>0</th>\n",
       "      <td>7</td>\n",
       "      <td>69</td>\n",
       "      <td>65</td>\n",
       "      <td>0.0</td>\n",
       "      <td>34.0</td>\n",
       "      <td>45</td>\n",
       "    </tr>\n",
       "    <tr>\n",
       "      <th>1</th>\n",
       "      <td>10</td>\n",
       "      <td>130</td>\n",
       "      <td>65</td>\n",
       "      <td>0.0</td>\n",
       "      <td>34.0</td>\n",
       "      <td>45</td>\n",
       "    </tr>\n",
       "    <tr>\n",
       "      <th>2</th>\n",
       "      <td>20</td>\n",
       "      <td>1000</td>\n",
       "      <td>65</td>\n",
       "      <td>0.0</td>\n",
       "      <td>34.0</td>\n",
       "      <td>45</td>\n",
       "    </tr>\n",
       "    <tr>\n",
       "      <th>3</th>\n",
       "      <td>6</td>\n",
       "      <td>85</td>\n",
       "      <td>66</td>\n",
       "      <td>0.0</td>\n",
       "      <td>94.0</td>\n",
       "      <td>45</td>\n",
       "    </tr>\n",
       "    <tr>\n",
       "      <th>4</th>\n",
       "      <td>11</td>\n",
       "      <td>190</td>\n",
       "      <td>66</td>\n",
       "      <td>0.0</td>\n",
       "      <td>94.0</td>\n",
       "      <td>45</td>\n",
       "    </tr>\n",
       "  </tbody>\n",
       "</table>\n",
       "</div>"
      ],
      "text/plain": [
       "   height  weight  ability1_id  ability2_id  abilitydream_id  catch_rate\n",
       "0       7      69           65          0.0             34.0          45\n",
       "1      10     130           65          0.0             34.0          45\n",
       "2      20    1000           65          0.0             34.0          45\n",
       "3       6      85           66          0.0             94.0          45\n",
       "4      11     190           66          0.0             94.0          45"
      ]
     },
     "execution_count": 499,
     "metadata": {},
     "output_type": "execute_result"
    }
   ],
   "source": [
    "X.head()"
   ]
  },
  {
   "cell_type": "code",
   "execution_count": 500,
   "metadata": {
    "collapsed": true
   },
   "outputs": [],
   "source": [
    "Y = pokemon['base_happiness']"
   ]
  },
  {
   "cell_type": "code",
   "execution_count": 488,
   "metadata": {
    "collapsed": false
   },
   "outputs": [
    {
     "data": {
      "text/plain": [
       "Counter({0: 22, 35: 66, 70: 546, 90: 5, 100: 14, 140: 10})"
      ]
     },
     "execution_count": 488,
     "metadata": {},
     "output_type": "execute_result"
    }
   ],
   "source": [
    "from collections import Counter\n",
    "Counter(Y)"
   ]
  },
  {
   "cell_type": "markdown",
   "metadata": {},
   "source": [
    "Поделим данные на обучающую и тестовые выборки."
   ]
  },
  {
   "cell_type": "code",
   "execution_count": 504,
   "metadata": {
    "collapsed": false
   },
   "outputs": [],
   "source": [
    "from sklearn.cross_validation import train_test_split"
   ]
  },
  {
   "cell_type": "code",
   "execution_count": 506,
   "metadata": {
    "collapsed": false
   },
   "outputs": [],
   "source": [
    "X_train, X_test, y_train, y_test = train_test_split(X, Y, test_size=.3)"
   ]
  },
  {
   "cell_type": "markdown",
   "metadata": {},
   "source": [
    "#### Метод k-ближайших соседей"
   ]
  },
  {
   "cell_type": "code",
   "execution_count": 592,
   "metadata": {
    "collapsed": true
   },
   "outputs": [],
   "source": [
    "from sklearn import neighbors, datasets"
   ]
  },
  {
   "cell_type": "code",
   "execution_count": 593,
   "metadata": {
    "collapsed": false
   },
   "outputs": [],
   "source": [
    "knn = neighbors.KNeighborsClassifier(n_neighbors=6, weights='uniform')\n",
    "knn.fit(X_train, y_train)\n",
    "Y_pred = knn.predict(X_test)"
   ]
  },
  {
   "cell_type": "code",
   "execution_count": 539,
   "metadata": {
    "collapsed": false
   },
   "outputs": [
    {
     "name": "stdout",
     "output_type": "stream",
     "text": [
      "             precision    recall  f1-score   support\n",
      "\n",
      "          0       0.44      0.80      0.57         5\n",
      "         35       0.43      0.12      0.19        24\n",
      "         70       0.86      0.97      0.91       161\n",
      "         90       0.00      0.00      0.00         1\n",
      "        100       1.00      0.20      0.33         5\n",
      "        140       0.00      0.00      0.00         3\n",
      "\n",
      "avg / total       0.78      0.82      0.78       199\n",
      "\n"
     ]
    },
    {
     "name": "stderr",
     "output_type": "stream",
     "text": [
      "//anaconda/lib/python3.5/site-packages/sklearn/metrics/classification.py:1074: UndefinedMetricWarning: Precision and F-score are ill-defined and being set to 0.0 in labels with no predicted samples.\n",
      "  'precision', 'predicted', average, warn_for)\n"
     ]
    }
   ],
   "source": [
    "from sklearn.metrics import classification_report\n",
    "target_names=['0', '35', '70', '90', '100', '140']\n",
    "print(classification_report(y_test, Y_pred,  target_names=target_names))"
   ]
  },
  {
   "cell_type": "markdown",
   "metadata": {},
   "source": [
    "Точность 0.78, так себе. Попробуем попозже другую модель."
   ]
  },
  {
   "cell_type": "markdown",
   "metadata": {},
   "source": [
    "#### Модель - RandomForest"
   ]
  },
  {
   "cell_type": "code",
   "execution_count": 576,
   "metadata": {
    "collapsed": false
   },
   "outputs": [
    {
     "data": {
      "text/plain": [
       "0.87437185929648242"
      ]
     },
     "execution_count": 576,
     "metadata": {},
     "output_type": "execute_result"
    }
   ],
   "source": [
    "from sklearn.ensemble import RandomForestClassifier\n",
    "\n",
    "clf = RandomForestClassifier()\n",
    "clf = clf.fit(X_train, y_train)\n",
    "Y_pred = clf.predict(X_test)\n",
    "clf.score(X_test, y_test)"
   ]
  },
  {
   "cell_type": "code",
   "execution_count": 577,
   "metadata": {
    "collapsed": false
   },
   "outputs": [
    {
     "name": "stdout",
     "output_type": "stream",
     "text": [
      "             precision    recall  f1-score   support\n",
      "\n",
      "          0       1.00      1.00      1.00         5\n",
      "         35       0.86      0.25      0.39        24\n",
      "         70       0.88      0.99      0.93       161\n",
      "         90       0.50      1.00      0.67         1\n",
      "        100       1.00      0.20      0.33         5\n",
      "        140       0.50      0.33      0.40         3\n",
      "\n",
      "avg / total       0.87      0.87      0.84       199\n",
      "\n"
     ]
    }
   ],
   "source": [
    "target_names=['0', '35', '70', '90', '100', '140']\n",
    "print(classification_report(y_test, Y_pred,  target_names=target_names))"
   ]
  },
  {
   "cell_type": "markdown",
   "metadata": {},
   "source": [
    "Средняя точность 0.87, полнотна 0.87, ничего так вполне. На двух классах даже 100$ предсказание."
   ]
  },
  {
   "cell_type": "markdown",
   "metadata": {},
   "source": [
    "Чтобы посмотреть, как происходит принятие решений на 1 из деревьев, можно воспользоваться методом DecisionTreeClassifier, который работает почти так же хорошо:"
   ]
  },
  {
   "cell_type": "code",
   "execution_count": 582,
   "metadata": {
    "collapsed": false
   },
   "outputs": [
    {
     "data": {
      "text/plain": [
       "0.84422110552763818"
      ]
     },
     "execution_count": 582,
     "metadata": {},
     "output_type": "execute_result"
    }
   ],
   "source": [
    "from sklearn import tree\n",
    "from sklearn.tree import DecisionTreeClassifier\n",
    "\n",
    "clf = tree.DecisionTreeClassifier()\n",
    "clf = clf.fit(X_train, y_train)\n",
    "Y_pred = clf.predict(X_test)\n",
    "clf.score(X_test, y_test)"
   ]
  },
  {
   "cell_type": "code",
   "execution_count": 584,
   "metadata": {
    "collapsed": false
   },
   "outputs": [
    {
     "data": {
      "text/plain": [
       "<sklearn.tree._tree.Tree at 0x11c25ae68>"
      ]
     },
     "execution_count": 584,
     "metadata": {},
     "output_type": "execute_result"
    }
   ],
   "source": [
    "clf.tree_"
   ]
  },
  {
   "cell_type": "code",
   "execution_count": 585,
   "metadata": {
    "collapsed": true
   },
   "outputs": [],
   "source": [
    "from sklearn.tree import export_graphviz\n",
    "\n",
    "with open('output.dot', 'w') as f:\n",
    "    f = export_graphviz(clf, out_file = f)"
   ]
  },
  {
   "cell_type": "code",
   "execution_count": 589,
   "metadata": {
    "collapsed": false
   },
   "outputs": [],
   "source": [
    "class PDF(object):  #источник https://stackoverflow.com/questions/19470099/view-pdf-image-in-an-ipython-notebook\n",
    "  def __init__(self, pdf, size=(200,200)):\n",
    "    self.pdf = pdf\n",
    "    self.size = size\n",
    "\n",
    "  def _repr_html_(self):\n",
    "    return '<iframe src={0} width={1[0]} height={1[1]}></iframe>'.format(self.pdf, self.size)\n",
    "\n",
    "  def _repr_latex_(self):\n",
    "    return r'\\includegraphics[width=1.0\\textwidth]{{{0}}}'.format(self.pdf)"
   ]
  },
  {
   "cell_type": "code",
   "execution_count": 591,
   "metadata": {
    "collapsed": false
   },
   "outputs": [
    {
     "data": {
      "text/html": [
       "<iframe src=tree.pdf width=800 height=450></iframe>"
      ],
      "text/latex": [
       "\\includegraphics[width=1.0\\textwidth]{tree.pdf}"
      ],
      "text/plain": [
       "<__main__.PDF at 0x11462a278>"
      ]
     },
     "execution_count": 591,
     "metadata": {},
     "output_type": "execute_result"
    }
   ],
   "source": [
    "PDF('tree.pdf',size=(800,450))"
   ]
  },
  {
   "cell_type": "code",
   "execution_count": null,
   "metadata": {
    "collapsed": true
   },
   "outputs": [],
   "source": []
  }
 ],
 "metadata": {
  "anaconda-cloud": {},
  "kernelspec": {
   "display_name": "Python [default]",
   "language": "python",
   "name": "python3"
  },
  "language_info": {
   "codemirror_mode": {
    "name": "ipython",
    "version": 3
   },
   "file_extension": ".py",
   "mimetype": "text/x-python",
   "name": "python",
   "nbconvert_exporter": "python",
   "pygments_lexer": "ipython3",
   "version": "3.5.2"
  }
 },
 "nbformat": 4,
 "nbformat_minor": 1
}
