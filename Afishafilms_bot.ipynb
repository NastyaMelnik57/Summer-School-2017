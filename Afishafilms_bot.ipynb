{
 "cells": [
  {
   "cell_type": "code",
   "execution_count": 1,
   "metadata": {
    "collapsed": true
   },
   "outputs": [],
   "source": [
    "import requests\n",
    "from bs4 import BeautifulSoup as BS #pip install bs4 --user"
   ]
  },
  {
   "cell_type": "code",
   "execution_count": 2,
   "metadata": {
    "collapsed": true
   },
   "outputs": [],
   "source": [
    "import telebot\n",
    "import pandas as pd\n",
    "import facebook\n",
    "import re\n",
    "import requests\n",
    "from lxml import etree"
   ]
  },
  {
   "cell_type": "code",
   "execution_count": 3,
   "metadata": {
    "collapsed": true
   },
   "outputs": [],
   "source": [
    "access_token = 'EAACEdEose0cBAFkaNvCactG2NfAEQhZAo0PnDoLrtajXWhnDu2qPNEEbQtNeW8B23tqU9wwOCeFjcLV7X9KrwpxAUf616pYUK2MfmJ9RVAI1RZCYYx0ktnsugQ0veLVpXAwAuOxvtBOzAPgIjjlTDZCR5QZAXYfX7hNC9n7CPrUyV0hG3nPaQwVIYNleXiEZD'"
   ]
  },
  {
   "cell_type": "code",
   "execution_count": 4,
   "metadata": {
    "collapsed": true
   },
   "outputs": [],
   "source": [
    "def fb_pasrsing(access_token,chat_id):\n",
    "    graph = facebook.GraphAPI(access_token)\n",
    "\n",
    "    # id of 'Flats for friends' page\n",
    "    page = 'afisha'\n",
    "\n",
    "    profile = graph.get_object(page)\n",
    "    posts = graph.get_connections(profile['id'], 'feed')['data']\n",
    "\n",
    "    try:\n",
    "        seen_posts = list(pd.read_csv('seen_posts_afisha'+str(chat_id)+'.csv').post_id)\n",
    "    except:\n",
    "        seen_posts = []\n",
    "        file = open('seen_posts_afisha'+str(chat_id)+'.csv', 'w')\n",
    "        file.write('post_id')\n",
    "        file.close()\n",
    "        \n",
    "    seen_posts_new, posts_to_show = [], []\n",
    "    for post in posts:\n",
    "        if len(set(seen_posts)&{post['id']})==0:\n",
    "            seen_posts_new.append(post['id'])\n",
    "            flag = False\n",
    "            try:\n",
    "                links = re.findall('http://.+ ?', post['message'])\n",
    "                for link in links:\n",
    "                    article = []\n",
    "                    page = requests.get(link).text\n",
    "                    soup = BS(page, 'lxml')\n",
    "                    news = soup.find_all('div', {'class':'news-paragraph'}) #article paragraph\n",
    "                    if len(news) > 0:\n",
    "                        for i in news:\n",
    "                            ps = i.find_all('p')\n",
    "                            for p in ps:\n",
    "                                contents = p.contents\n",
    "                                for cont in contents:\n",
    "                                    cont = str(cont)\n",
    "                                    if 'фильм' in cont:\n",
    "                                        flag = True\n",
    "                        if flag == True:\n",
    "                            posts_to_show.append(link)\n",
    "                    else:\n",
    "                        news = soup.find_all('div', {'class':'article-paragraph'}) #article paragraph\n",
    "                        for i in news:\n",
    "                            ps = i.find_all('p')\n",
    "                            for p in ps:\n",
    "                                contents = p.contents\n",
    "                                for cont in contents:\n",
    "                                    cont = str(cont)\n",
    "                                    if 'фильм' in cont:\n",
    "                                        flag = True\n",
    "                        if flag == True:\n",
    "                            posts_to_show.append(link)\n",
    "                        \n",
    "            except KeyError:\n",
    "                pass\n",
    "    pd.DataFrame(seen_posts+seen_posts_new,columns=['post_id']).to_csv('seen_posts_afisha'+str(chat_id)+'.csv', index=False) \n",
    "    return(posts_to_show)"
   ]
  },
  {
   "cell_type": "code",
   "execution_count": 5,
   "metadata": {
    "collapsed": true
   },
   "outputs": [],
   "source": [
    "tg_token = '273216415:AAHnRdf3P_tio6OstPekkwRcdu-xF5USe84'"
   ]
  },
  {
   "cell_type": "code",
   "execution_count": 8,
   "metadata": {
    "collapsed": false
   },
   "outputs": [],
   "source": [
    "bot = telebot.TeleBot(tg_token)\n",
    "\n",
    "@bot.message_handler(commands=['start'])\n",
    "\n",
    "def handle_start(message):\n",
    "   bot.send_message(message.chat.id, \"Hi!\")\n",
    "    \n",
    "@bot.message_handler(commands=['search_films'])\n",
    "\n",
    "def search_flats(message):\n",
    "    bot.send_message(message.chat.id, 'Ok, wait, I am working on it...')\n",
    "    posts_to_show = fb_pasrsing(access_token, message.chat.id)\n",
    "    if len(posts_to_show)==0:\n",
    "        bot.send_message(message.chat.id, 'Since the last request, there were no new posts, sorry :(')\n",
    "    else:\n",
    "        for link in posts_to_show:\n",
    "            bot.send_message(message.chat.id, link)\n",
    "        bot.send_message(message.chat.id, 'Done!')\n",
    "\n",
    "@bot.message_handler(commands=['help'])\n",
    "def handle_help(message):\n",
    "    bot.send_message(message.chat.id, \"\"\"\n",
    "/start - say Hi!\n",
    "/search_films - search for new posts about films\n",
    "\"\"\")\n",
    "            \n",
    "if __name__ == '__main__':\n",
    "   bot.polling(none_stop=True)"
   ]
  },
  {
   "cell_type": "code",
   "execution_count": null,
   "metadata": {
    "collapsed": true
   },
   "outputs": [],
   "source": []
  }
 ],
 "metadata": {
  "anaconda-cloud": {},
  "kernelspec": {
   "display_name": "Python [default]",
   "language": "python",
   "name": "python3"
  },
  "language_info": {
   "codemirror_mode": {
    "name": "ipython",
    "version": 3
   },
   "file_extension": ".py",
   "mimetype": "text/x-python",
   "name": "python",
   "nbconvert_exporter": "python",
   "pygments_lexer": "ipython3",
   "version": "3.5.2"
  }
 },
 "nbformat": 4,
 "nbformat_minor": 2
}
