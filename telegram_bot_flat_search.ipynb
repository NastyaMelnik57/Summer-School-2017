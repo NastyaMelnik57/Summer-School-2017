{
 "cells": [
  {
   "cell_type": "markdown",
   "metadata": {},
   "source": [
    "Чат-бот в телеграме ищет по странице в фейсбуке все посты про сдачу квартиры"
   ]
  },
  {
   "cell_type": "code",
   "execution_count": 81,
   "metadata": {
    "collapsed": true
   },
   "outputs": [],
   "source": [
    "import telebot\n",
    "import pandas as pd\n",
    "import facebook"
   ]
  },
  {
   "cell_type": "code",
   "execution_count": 82,
   "metadata": {
    "collapsed": true
   },
   "outputs": [],
   "source": [
    "access_token = 'EAACEdEose0cBAJah4e3gJOdWNeoJ7jbNWTX4BwpIpvPQBR9upnyGdKBsa5gnDhTiQgZBb881GkYIxVnSc4sKz9iImzQTHDot98lCPZB8MwZA9V3Gj3ZByr2G31aFBhZCoWIT8KgzthjasBWRZADsZBphRZC7mDSEGHxikvFAA2xyWywoqxab6gyrPrL6udQs0lsZD'"
   ]
  },
  {
   "cell_type": "code",
   "execution_count": 60,
   "metadata": {},
   "outputs": [
    {
     "data": {
      "text/plain": [
       "'Хэййй пипл!!) \\nИщем соседку или соседа или пару для подселения в соседнюю комнату!с 24го июля!без посредников и агентов! 5 минут пешком до метро \" Водный стадион\" Комнатка маленькая с диваном, закрывается! Что хотелось бы: чтобы соседка/сосед был/а опрятная, аккуратная и честная, во время платила квартплату.только славяне.\\nАренда 15тыс. Залог. 10тыс. \\nМы- молодая пара, иногда курим кальян, в основном уезжаем на работу и дома спим. Любим готовить и поддерживать чистоту в квартире.:)\\nФотографии квартиры и комнаты отправлю в личку!\\nАГЕНТАМ НЕ БЕСПОКОИТЬ!!\\nПусть наш дом станет и вашим домом:)\\nЗа репост +200 к карме:)\\nВсем мир!)'"
      ]
     },
     "execution_count": 60,
     "metadata": {},
     "output_type": "execute_result"
    }
   ],
   "source": [
    "posts[1]['message'] #основное сообщение поста"
   ]
  },
  {
   "cell_type": "code",
   "execution_count": 83,
   "metadata": {
    "collapsed": true
   },
   "outputs": [],
   "source": [
    "def fb_pasrsing(access_token,chat_id):\n",
    "    graph = facebook.GraphAPI(access_token) #через api нет ссылок на посты, только id\n",
    "\n",
    "    # id of 'Flats for friends' page\n",
    "    page = '509679185734909'\n",
    "\n",
    "    profile = graph.get_object(page)\n",
    "    posts = graph.get_connections(profile['id'], 'feed')['data'] #feed - новостная лента\n",
    "    \n",
    "    try:\n",
    "        seen_posts = list(pd.read_csv('seen_posts'+str(chat_id)+'.csv').post_id)\n",
    "    except:\n",
    "        seen_posts = []\n",
    "        file = open('seen_posts'+str(chat_id)+'.csv', 'w')\n",
    "        file.write('post_id')\n",
    "        file.close()\n",
    "    seen_posts_new, posts_to_show = [], []\n",
    "\n",
    "    for post in posts:\n",
    "        if len(set(seen_posts)&{post['id']})==0:\n",
    "            seen_posts_new.append(post['id'])\n",
    "            try:\n",
    "                bag_of_words = set(posts[0]['message'].lower().split(' '))\n",
    "\n",
    "                if (len(bag_of_words&{'сдам','сдаю','сдается'})>0)\\\n",
    "                &  (len(bag_of_words&{'квартира','квартиру'})>0):\n",
    "                    link = 'https://www.facebook.com/groups/%s/permalink/%s/' % tuple(post['id'].split('_')) #вставляет два числа из id поста вместо %s и получается ссылка\n",
    "                    posts_to_show.append(link)\n",
    "            except KeyError:\n",
    "                pass\n",
    "    pd.DataFrame(seen_posts+seen_posts_new,columns=['post_id']).to_csv('seen_posts'+str(chat_id)+'.csv', index=False) \n",
    "    return(posts_to_show)"
   ]
  },
  {
   "cell_type": "markdown",
   "metadata": {},
   "source": [
    "### Сбор ссылок телеграм-ботом."
   ]
  },
  {
   "cell_type": "markdown",
   "metadata": {},
   "source": [
    "В телеграме пишем /newbot в чат botfather. Придумываем имя чат-боту и получаем токену."
   ]
  },
  {
   "cell_type": "code",
   "execution_count": 87,
   "metadata": {
    "collapsed": true
   },
   "outputs": [],
   "source": [
    "tg_token = '444864632:AAEbK-YXHH92FWE7Qrks9j9CfhC-VRYRlTU'"
   ]
  },
  {
   "cell_type": "code",
   "execution_count": null,
   "metadata": {
    "collapsed": true
   },
   "outputs": [],
   "source": [
    "bot = telebot.TeleBot(tg_token)\n",
    "\n",
    "@bot.message_handler(commands=['start'])\n",
    "\n",
    "def handle_start(message):\n",
    "   bot.send_message(message.chat.id, \"Hi!\")\n",
    "    \n",
    "@bot.message_handler(commands=['search'])\n",
    "\n",
    "def search_flats(message):\n",
    "    posts_to_show = fb_pasrsing(access_token, message.chat.id)\n",
    "    if len(posts_to_show)==0:\n",
    "        bot.send_message(message.chat.id, 'Since the last request, there were no new ads, sorry :(')\n",
    "    else:\n",
    "        for link in posts_to_show:\n",
    "            bot.send_message(message.chat.id, link)\n",
    "            \n",
    "if __name__ == '__main__':\n",
    "   bot.polling(none_stop=True)"
   ]
  }
 ],
 "metadata": {
  "kernelspec": {
   "display_name": "Python 3",
   "language": "python",
   "name": "python3"
  },
  "language_info": {
   "codemirror_mode": {
    "name": "ipython",
    "version": 3
   },
   "file_extension": ".py",
   "mimetype": "text/x-python",
   "name": "python",
   "nbconvert_exporter": "python",
   "pygments_lexer": "ipython3",
   "version": "3.5.2"
  }
 },
 "nbformat": 4,
 "nbformat_minor": 2
}
