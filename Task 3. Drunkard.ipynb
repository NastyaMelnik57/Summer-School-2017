{
 "cells": [
  {
   "cell_type": "markdown",
   "metadata": {},
   "source": [
    "#### Общие соображения"
   ]
  },
  {
   "cell_type": "markdown",
   "metadata": {},
   "source": [
    "Пьяница делает шаги назад и вперед.\n",
    "\n",
    "p(back) = b = 2/3\n",
    "\n",
    "p(forward) = f = 1/3\n",
    "\n",
    "Так как шаги случайны, то вероятность последовательности шагов  pass_1, ... pass_j \n",
    "равна произведению вероятностей p(pass_1), ..., p(pass_j).\n",
    "\n",
    "Пусть f(N) - вероятность того, что после N шагов пьяница не упал"
   ]
  },
  {
   "cell_type": "markdown",
   "metadata": {},
   "source": [
    "#### N = 1"
   ]
  },
  {
   "cell_type": "markdown",
   "metadata": {},
   "source": [
    "С вероятностью 2/3 пьяница сделает шаг назад и не упадет, и с вероятностью 1/3 он сделает шаг вперед и упадет.\n",
    "\n",
    "f(1) = 2/3"
   ]
  },
  {
   "cell_type": "markdown",
   "metadata": {},
   "source": [
    "#### N = 2"
   ]
  },
  {
   "cell_type": "markdown",
   "metadata": {},
   "source": [
    "Набор возможных шагов для N=2:\n",
    "\n",
    "    назад назад - не упал\n",
    "    назад вперед - не упал\n",
    "    вперед назад - упал\n",
    "    вперед вперед - упал\n",
    "\n",
    "Значит, вероятность того, что пьяница не упал после двух шагов, равна вероятности того, \n",
    "что он сделал 2 шага назад или 1 шаг назад и 1 шаг вперед.\n",
    "\n",
    "f(2) = p(back, back) + p(back, forward) = b\\*b + b\\*f = b*(b+f) = b = 2/3"
   ]
  },
  {
   "cell_type": "markdown",
   "metadata": {},
   "source": [
    "#### N = 3"
   ]
  },
  {
   "cell_type": "markdown",
   "metadata": {},
   "source": [
    "Пьяница не упадет после третьего шага, только если он не упадет после второго, поэтому набор шагов для N=3 будет начинаться либо с \"назад назад\", либо с \"назад вперед\":\n",
    "\n",
    "    назад назад вперед\n",
    "    назад назад назад\n",
    "    назад вперед назад (если количество назад и вперед одинаковое, то только назад можно пойти)\n",
    "  \n",
    "f(3) = p(b, b, f) + p(b, b, b) + p(b, f, b) = b\\*b\\*f + b\\*b\\*b + b\\*f\\*b = b^2 \\* (2*f + b) = 16/27"
   ]
  },
  {
   "cell_type": "markdown",
   "metadata": {},
   "source": [
    "#### N = 4"
   ]
  },
  {
   "cell_type": "markdown",
   "metadata": {},
   "source": [
    "Пьяница не упадет после четвертого шага, только если он не упадет после третьего, поэтому набор шагов для N=4 будет начинаться либо с \"назад назад вперед\", либо с \"назад назад назад\", либо с \"назад вперед назад\":\n",
    "\n",
    "    назад назад вперед назад\n",
    "    назад назад вперед вперед\n",
    "    назад назад назад назад\n",
    "    назад назад назад вперед\n",
    "    назад вперед назад назад\n",
    "    назад вперед назад вперед\n",
    "    \n",
    "(так как за нечетное количество шагов невозможно снова оказаться у пропасти (количество шагов назад и вперед должно быть для этого одинаково, то есть N должно быть четным), то для того чтобы получить комбинации шагов для N = 2\\*k, достаточно к каждой комбинации шагов N = 2\\*k-1 добавить назад и вперед, и после любой из них пьяница все еще не упадет, а так как вероятность пойти назад ИЛИ вперед равна единице после любой из комбинаций, то f(N) = f(N-1) для любых четных N)\n",
    "  \n",
    "f(4) = p(b, b, f, b) + p(b, b, f, f) + p(b, b, b, b) + p(b, b, b, f) + p(b, f, b, b) + p(b, f, b, f) = \n",
    "       \n",
    "    = b*b*f*(b+f) + b*b*b*(b+f) + b*f*b*(b+f) = b*b*f + b*b*b + b*f*b = b^2 * (2*f + b) = 16/27"
   ]
  },
  {
   "cell_type": "markdown",
   "metadata": {},
   "source": [
    "#### N = 5"
   ]
  },
  {
   "cell_type": "markdown",
   "metadata": {},
   "source": [
    "Наборы шагов для N=5, после которых пьяница не упадет:\n",
    "    \n",
    "    назад назад вперед назад назад\n",
    "    назад назад вперед назад вперед\n",
    "    назад назад вперед вперед назад\n",
    "    назад назад назад назад назад\n",
    "    назад назад назад назад вперед\n",
    "    назад назад назад вперед назад\n",
    "    назад назад назад вперед вперед\n",
    "    назад вперед назад назад назад\n",
    "    назад вперед назад назад вперед\n",
    "    назад вперед назад вперед назад\n",
    "    \n",
    "f(5) = p(b,b,f,b,b) + p(b,b,f,b,f) + p(b,b,f,f,b) + p(b,b,b,b,b) + p(b,b,b,b,f) + p(b,b,b,f,b) + p(b,b,b,f,f) +\n",
    "    \n",
    "    + p(b,f,b,b,b) + p(b,f,b,b,f) + p(b,f,b,f,b) = \n",
    "    \n",
    "    = b*b*f*b*b + b*b*f*b*f + b*b*f*f*b + b*b*b*b*b + b*b*b*b*f + b*b*b*f*b + b*b*b*f*f + b*f*b*b*b + b*f*b*b*f + \n",
    "        b*f*b*f*b = \n",
    "    \n",
    "    = b^3 * (b*f + f*f + f*f + b*b + b*f + f*b + f*f + b*f + f*f + f*f) = b^3 * (5*f^2 + 4*b*f + b^2) = 136/243"
   ]
  },
  {
   "cell_type": "code",
   "execution_count": 64,
   "metadata": {
    "collapsed": false
   },
   "outputs": [
    {
     "data": {
      "text/plain": [
       "0.5596707818930041"
      ]
     },
     "execution_count": 64,
     "metadata": {},
     "output_type": "execute_result"
    }
   ],
   "source": [
    "136/243"
   ]
  },
  {
   "cell_type": "markdown",
   "metadata": {},
   "source": [
    "#### N - произвольное"
   ]
  },
  {
   "cell_type": "code",
   "execution_count": 6,
   "metadata": {
    "collapsed": true
   },
   "outputs": [],
   "source": [
    "import numpy as np"
   ]
  },
  {
   "cell_type": "code",
   "execution_count": 7,
   "metadata": {
    "collapsed": true
   },
   "outputs": [],
   "source": [
    "def alive(n):\n",
    "    if n < 0:\n",
    "        p = 'Check again N'\n",
    "    elif n == 0:\n",
    "        p = 1\n",
    "    elif n == 2:\n",
    "        p = 2/3\n",
    "    elif n%2 != 0:\n",
    "        p = alive(n+1)\n",
    "    else:\n",
    "        b = 2/3\n",
    "        f = 1/3\n",
    "        way = [[b,b], [b,f]]\n",
    "        way2 = [[b,b], [b,f]]\n",
    "        while len(way2[0]) != n:\n",
    "            for i in range(0, len(way)):\n",
    "                if way[i].count(b) != way[i].count(f):\n",
    "                    way2 += [way[i] + [b,b], way[i] + [b,f], way[i] + [f,f], way[i] + [f,b]]\n",
    "                    del way2[0]\n",
    "                else:\n",
    "                    way2 += [way[i] + [b,f], way[i] + [b,b]]\n",
    "                    del way2[0]\n",
    "            way = way2[:]\n",
    "        p=0\n",
    "        for i in way2:\n",
    "            p += np.prod(i)\n",
    "    return p"
   ]
  },
  {
   "cell_type": "code",
   "execution_count": 8,
   "metadata": {
    "collapsed": false
   },
   "outputs": [
    {
     "data": {
      "text/plain": [
       "0.55967078189300379"
      ]
     },
     "execution_count": 8,
     "metadata": {},
     "output_type": "execute_result"
    }
   ],
   "source": [
    "alive(5)"
   ]
  },
  {
   "cell_type": "markdown",
   "metadata": {},
   "source": [
    "Предварительные рассчеты подтвердились!"
   ]
  },
  {
   "cell_type": "markdown",
   "metadata": {},
   "source": [
    "#### Построим функцию alive(n)"
   ]
  },
  {
   "cell_type": "code",
   "execution_count": 1,
   "metadata": {
    "collapsed": true
   },
   "outputs": [],
   "source": [
    "import matplotlib.pyplot as plt"
   ]
  },
  {
   "cell_type": "code",
   "execution_count": 36,
   "metadata": {
    "collapsed": false
   },
   "outputs": [],
   "source": [
    "plt.title('Probability of being alive')\n",
    "plt.ylabel('Probability')\n",
    "plt.xlabel('N')\n",
    "Ns = np.arange(0, 24, 1)\n",
    "for N in Ns:\n",
    "    plt.plot(N, alive(N), 'bo')"
   ]
  },
  {
   "cell_type": "code",
   "execution_count": 41,
   "metadata": {
    "collapsed": false
   },
   "outputs": [
    {
     "data": {
      "image/png": "[encoded data removed]",
      "text/plain": [
       "<matplotlib.figure.Figure at 0x186f45048>"
      ]
     },
     "metadata": {},
     "output_type": "display_data"
    }
   ],
   "source": [
    "plt.show()"
   ]
  },
  {
   "cell_type": "code",
   "execution_count": null,
   "metadata": {
    "collapsed": true
   },
   "outputs": [],
   "source": []
  }
 ],
 "metadata": {
  "anaconda-cloud": {},
  "kernelspec": {
   "display_name": "Python [default]",
   "language": "python",
   "name": "python3"
  },
  "language_info": {
   "codemirror_mode": {
    "name": "ipython",
    "version": 3
   },
   "file_extension": ".py",
   "mimetype": "text/x-python",
   "name": "python",
   "nbconvert_exporter": "python",
   "pygments_lexer": "ipython3",
   "version": "3.5.2"
  }
 },
 "nbformat": 4,
 "nbformat_minor": 1
}
